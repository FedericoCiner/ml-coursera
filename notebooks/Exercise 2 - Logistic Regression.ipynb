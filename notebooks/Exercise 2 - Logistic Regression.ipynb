{
 "cells": [
  {
   "cell_type": "markdown",
   "metadata": {},
   "source": [
    "## Part 1 - Plotting"
   ]
  },
  {
   "cell_type": "code",
   "execution_count": 1,
   "metadata": {
    "collapsed": false
   },
   "outputs": [
    {
     "data": {
      "image/png": "[encoded data removed]",
      "text/plain": [
       "<matplotlib.figure.Figure at 0x4d2fd30>"
      ]
     },
     "metadata": {},
     "output_type": "display_data"
    }
   ],
   "source": [
    "import numpy as np\n",
    "import pandas as pd\n",
    "import matplotlib\n",
    "import matplotlib.pyplot as plt\n",
    "import seaborn as sns\n",
    "import warnings\n",
    "from scipy.optimize import minimize\n",
    "\n",
    "# ignore warnings\n",
    "warnings.filterwarnings('ignore')\n",
    "\n",
    "# set numpy print options\n",
    "np.set_printoptions(suppress=True)\n",
    "\n",
    "# set default figure size\n",
    "matplotlib.rcParams[\"figure.dpi\"] = 120\n",
    "\n",
    "# load data\n",
    "data = np.loadtxt(\"data/ex2data1.txt\", delimiter = ',')\n",
    "m, n = data[:, :-1].shape\n",
    "X = np.concatenate((np.ones((m, 1)), data[:, :-1]), axis=1)\n",
    "y = data[:, -1]\n",
    "\n",
    "# plot data\n",
    "def plotData(data, xlabel, ylabel, poslabel, neglabel):\n",
    "    \"\"\"\n",
    "    Plots the data points with + for the positive examples and o for the negative examples. \n",
    "    Data is assumed to be an Mx3 array.\n",
    "    \n",
    "    :param data: an Mx3 array\n",
    "    :param xlabel: label for the x-axis\n",
    "    :param ylabel: label for the y-axis\n",
    "    :param poslabel: label for the positive (y == 1) examples\n",
    "    :param poslabel: label for the negative (y == 0) examples\n",
    "    \"\"\"\n",
    "    plt.scatter(data[data[:, -1] == 1, 0], data[data[:, -1] == 1, 1], color='k', marker = '+', label = poslabel)\n",
    "    plt.scatter(data[data[:, -1] == 0, 0], data[data[:, -1] == 0, 1], color='y', marker = 'o', label = neglabel)\n",
    "    plt.xlabel(xlabel)\n",
    "    plt.ylabel(ylabel)\n",
    "    plt.legend(loc = \"upper right\", frameon = True, fancybox = True)\n",
    "    plt.show()\n",
    "\n",
    "plotData(data, \"Exam 1\", \"Exam 2\", \"Admitted\", \"Not admitted\")"
   ]
  },
  {
   "cell_type": "markdown",
   "metadata": {},
   "source": [
    "## Part 2 - Cost Function and Gradient"
   ]
  },
  {
   "cell_type": "markdown",
   "metadata": {},
   "source": [
    "### Sigmoid Function"
   ]
  },
  {
   "cell_type": "code",
   "execution_count": 2,
   "metadata": {
    "collapsed": false
   },
   "outputs": [],
   "source": [
    "def sigmoid(z):\n",
    "    \"\"\"\n",
    "    Computes the sigmoid function for all values of z.\n",
    "    \n",
    "    :param z: scalar, vector or array of values for which the sigmoid function should be computed\n",
    "    :returns: scalar, vector or array of values of size z containing computed sigmoid values\n",
    "    \"\"\"\n",
    "    return(1 / (1 + np.power(np.e, -z)))"
   ]
  },
  {
   "cell_type": "markdown",
   "metadata": {},
   "source": [
    "### Cost Function and Gradient"
   ]
  },
  {
   "cell_type": "code",
   "execution_count": 3,
   "metadata": {
    "collapsed": true
   },
   "outputs": [],
   "source": [
    "def costFunction(theta, X, y):\n",
    "    \"\"\" \n",
    "    Computes the cost of using theta as the parameter for logistic regression and the\n",
    "    gradient of the cost w.r.t. to the parameters\n",
    "    \n",
    "    :param theta: parameter vector containing corresponding values of theta\n",
    "    :param X: MxN array that contains feature set (x-values)\n",
    "    :param y: Mx1 array that contains resulting outcomes (y-values)\n",
    "    :returns: a scalar of the cost \"J\" and gradient \"grad\" of the cost with the same size as theta\n",
    "    \"\"\"\n",
    "    m = len(y)\n",
    "    h = sigmoid(np.dot(X, theta))  # get predictions\n",
    "    J = -(1 / m) * (np.log(h).T.dot(y) + np.log(1 - h).T.dot(1 - y))  # calculate cost\n",
    "    \n",
    "    return J"
   ]
  },
  {
   "cell_type": "code",
   "execution_count": 4,
   "metadata": {
    "collapsed": false
   },
   "outputs": [],
   "source": [
    "def gradient(theta, X, y):\n",
    "    \"\"\"\n",
    "    Computes the gradient of the cost with respect to cost J and theta.\n",
    "    \n",
    "    :param theta: parameter vector containing corresponding values of theta\n",
    "    :param X: MxN array that contains feature set (x-values)\n",
    "    :param y: Mx1 array that contains resulting outcomes (y-values)\n",
    "    :returns: gradient of the cost with the same size as theta\n",
    "    \"\"\"\n",
    "    m = len(y)\n",
    "    h = sigmoid(np.dot(X, theta))\n",
    "    return (1 / m) * np.dot(X.transpose(), h - y)"
   ]
  },
  {
   "cell_type": "code",
   "execution_count": 5,
   "metadata": {
    "collapsed": false
   },
   "outputs": [
    {
     "name": "stdout",
     "output_type": "stream",
     "text": [
      "Cost: \n",
      " 0.69314718056\n",
      "\n",
      "\n",
      "Gradient: \n",
      " [ -0.1        -12.00921659 -11.26284221]\n"
     ]
    }
   ],
   "source": [
    "initial_theta = np.zeros(X.shape[1])\n",
    "cost = costFunction(initial_theta, X, y)\n",
    "grad = gradient(initial_theta, X, y)\n",
    "print('Cost: \\n', cost)\n",
    "print(\"\\n\")\n",
    "print('Gradient: \\n', grad)"
   ]
  },
  {
   "cell_type": "markdown",
   "metadata": {},
   "source": [
    "## Optimization using SciPy"
   ]
  },
  {
   "cell_type": "code",
   "execution_count": 6,
   "metadata": {
    "collapsed": false
   },
   "outputs": [
    {
     "name": "stdout",
     "output_type": "stream",
     "text": [
      "Cost at theta found by minimize: \n",
      " 0.20349770158944375\n",
      "\n",
      "\n",
      "Theta: \n",
      " [-25.16133284   0.2062317    0.2014716 ]\n"
     ]
    }
   ],
   "source": [
    "# Minimizes the cost function using the scipy.optimize.minimize function\n",
    "res = minimize(costFunction, initial_theta, args = (X, y), method = None, jac = gradient, options = {'maxiter': 400})\n",
    "print(\"Cost at theta found by minimize: \\n\", res.fun)\n",
    "print(\"\\n\")\n",
    "print(\"Theta: \\n\", res.x)"
   ]
  },
  {
   "cell_type": "markdown",
   "metadata": {},
   "source": [
    "## Predict using new data"
   ]
  },
  {
   "cell_type": "code",
   "execution_count": 7,
   "metadata": {
    "collapsed": true
   },
   "outputs": [],
   "source": [
    "def predict(theta, X):\n",
    "    \"\"\"\n",
    "    Predict whether the label is 0 or 1 using learned logistic regression parameters theta\n",
    "    \n",
    "    :param theta: parameter vector containing corresponding values of theta\n",
    "    :param X: MxN array that contains feature set (x-values)\n",
    "    :returns: Mx1 array with predicted values of y\n",
    "    \"\"\"\n",
    "    threshold = 0.5\n",
    "    p = sigmoid(np.dot(X, theta)) >= threshold\n",
    "    return (p.astype(\"int\"))"
   ]
  },
  {
   "cell_type": "code",
   "execution_count": 8,
   "metadata": {
    "collapsed": false
   },
   "outputs": [
    {
     "name": "stdout",
     "output_type": "stream",
     "text": [
      "Train accuracy 89.0%\n"
     ]
    }
   ],
   "source": [
    "theta = res.x\n",
    "p = predict(theta, X)\n",
    "print('Train accuracy {}%'.format(100 * sum(p == y.ravel()) / p.size))"
   ]
  },
  {
   "cell_type": "code",
   "execution_count": null,
   "metadata": {
    "collapsed": true
   },
   "outputs": [],
   "source": []
  }
 ],
 "metadata": {
  "anaconda-cloud": {},
  "kernelspec": {
   "display_name": "Python [default]",
   "language": "python",
   "name": "python3"
  },
  "language_info": {
   "codemirror_mode": {
    "name": "ipython",
    "version": 3
   },
   "file_extension": ".py",
   "mimetype": "text/x-python",
   "name": "python",
   "nbconvert_exporter": "python",
   "pygments_lexer": "ipython3",
   "version": "3.5.2"
  }
 },
 "nbformat": 4,
 "nbformat_minor": 1
}
